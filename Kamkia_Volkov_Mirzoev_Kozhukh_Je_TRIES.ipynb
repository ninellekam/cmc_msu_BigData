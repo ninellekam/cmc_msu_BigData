{
 "cells": [
  {
   "cell_type": "code",
   "execution_count": 3,
   "id": "excited-samoa",
   "metadata": {},
   "outputs": [],
   "source": [
    "import pandas as pd\n",
    "import calendar\n",
    "import csv\n",
    "import numpy as np\n",
    "from datetime import datetime, timedelta"
   ]
  },
  {
   "cell_type": "code",
   "execution_count": 4,
   "id": "designed-monday",
   "metadata": {},
   "outputs": [],
   "source": [
    "inv_data = pd.read_csv('b1_-_inventory.csv')\n",
    "sup_data = pd.read_csv('b1_-_supply.csv')\n",
    "sell_data = pd.read_csv('b1_-_sell.csv')\n",
    "sell_logs = sell_data.groupby(['date'])"
   ]
  },
  {
   "cell_type": "code",
   "execution_count": 5,
   "id": "herbal-conditions",
   "metadata": {},
   "outputs": [],
   "source": [
    "def count_sells(data, day, ap):\n",
    "    logs_str = sell_data.sku_num.str\n",
    "    bools = logs_str.startswith('MS-b1' + ap)\n",
    "    return bools[bools == True].count()"
   ]
  },
  {
   "cell_type": "code",
   "execution_count": 6,
   "id": "coral-climate",
   "metadata": {},
   "outputs": [],
   "source": [
    "def is_stealed(j, inv_day, i):\n",
    "    return inv_day - inv_data.apple[j] "
   ]
  },
  {
   "cell_type": "code",
   "execution_count": 7,
   "id": "mental-romantic",
   "metadata": {},
   "outputs": [],
   "source": [
    "def get_key(d, value):\n",
    "    for k, v in d.items():\n",
    "        if v == value:\n",
    "            return k"
   ]
  },
  {
   "cell_type": "code",
   "execution_count": 23,
   "id": "manufactured-insulin",
   "metadata": {},
   "outputs": [],
   "source": [
    "inv_day = 0\n",
    "ar = [1]\n",
    "arr = np.array(ar)\n",
    "array_of_worst = np.array(ar)\n",
    "d = {}  \n",
    "j = 0\n",
    "k = 0\n",
    "list_sell = {}\n",
    "while j < inv_data.date.count():       \n",
    "        if k % 12 == 0:\n",
    "            idx = np.argmax(arr)\n",
    "            array_of_worst = np.append(array_of_worst, arr[idx])\n",
    "            d[j] = arr[idx]\n",
    "            arr.fill(0)\n",
    "        d1 = datetime.strptime(inv_data.date[j], '%Y-%m-%d')\n",
    "        cur_day = d1 - timedelta(days = d1.day - 1)   \n",
    "        for i in range(1, d1.day + 1):\n",
    "            sells_of_day = count_sells(sell_data, cur_day, 'ap')\n",
    "            day = j\n",
    "            list_sell[day] = sells_of_day\n",
    "            if i == 1:\n",
    "                inv_day += sup_data.apple[j*2]\n",
    "            elif i == 15:\n",
    "                inv_day += sup_data.apple[j*2 + 1]\n",
    "            inv_day -= sells_of_day\n",
    "            data_row = [cur_day.strftime(\"%Y-%m-%d\"), inv_day]\n",
    "            if i == d1.day:\n",
    "                tmp = is_stealed(j, inv_day, i)\n",
    "                arr = np.append(arr,tmp)              \n",
    "        cur_day = cur_day + timedelta(days=1)\n",
    "        j += 1\n",
    "        k += 1\n",
    "c = np.argpartition(array_of_worst, kth = np.size(array_of_worst) - 3)[np.size(array_of_worst) - 3:]"
   ]
  },
  {
   "cell_type": "code",
   "execution_count": null,
   "id": "continuous-habitat",
   "metadata": {},
   "outputs": [],
   "source": [
    "with open('b1-daily.csv', mode = 'w') as file:\n",
    "    writer = csv.writer(file, delimiter = ',')\n",
    "    for row in data_row:\n",
    "        writer.writerow(row)\n",
    "file.close()"
   ]
  },
  {
   "cell_type": "code",
   "execution_count": null,
   "id": "congressional-request",
   "metadata": {},
   "outputs": [],
   "source": [
    "list_steal = []\n",
    "list_steal.append(['date', 'apple', 'pen'])"
   ]
  },
  {
   "cell_type": "code",
   "execution_count": 24,
   "id": "bright-fiber",
   "metadata": {},
   "outputs": [
    {
     "name": "stdout",
     "output_type": "stream",
     "text": [
      "3 Худших года с точки зрения самых больших краж:\n",
      "----------\n",
      "2013-01-31 4779072\n",
      "2014-01-31 5462547\n",
      "2015-01-31 6145008\n",
      "----------\n"
     ]
    }
   ],
   "source": [
    "print('3 Худших года с точки зрения самых больших краж:')\n",
    "print('----------')\n",
    "value = array_of_worst[c[0]]\n",
    "key = get_key(d, array_of_worst[c[0]])\n",
    "print(inv_data.date[key], value)\n",
    "key = get_key(d, array_of_worst[c[1]])\n",
    "value = array_of_worst[c[1]]\n",
    "print(inv_data.date[key], value)\n",
    "value = array_of_worst[c[2]]\n",
    "key = get_key(d, value)\n",
    "print(inv_data.date[key], value)\n",
    "print('----------')"
   ]
  },
  {
   "cell_type": "code",
   "execution_count": 14,
   "id": "union-gabriel",
   "metadata": {},
   "outputs": [],
   "source": [
    "# creating template for stolen items\n",
    "list_steal = []\n",
    "list_steal.append(['date', 'apple', 'pen'])"
   ]
  },
  {
   "cell_type": "code",
   "execution_count": null,
   "id": "frozen-camping",
   "metadata": {},
   "outputs": [],
   "source": []
  }
 ],
 "metadata": {
  "kernelspec": {
   "display_name": "Python 3",
   "language": "python",
   "name": "python3"
  },
  "language_info": {
   "codemirror_mode": {
    "name": "ipython",
    "version": 3
   },
   "file_extension": ".py",
   "mimetype": "text/x-python",
   "name": "python",
   "nbconvert_exporter": "python",
   "pygments_lexer": "ipython3",
   "version": "3.7.10"
  }
 },
 "nbformat": 4,
 "nbformat_minor": 5
}
